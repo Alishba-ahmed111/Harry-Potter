{
  "nbformat": 4,
  "nbformat_minor": 0,
  "metadata": {
    "colab": {
      "provenance": []
    },
    "kernelspec": {
      "name": "python3",
      "display_name": "Python 3"
    },
    "language_info": {
      "name": "python"
    }
  },
  "cells": [
    {
      "cell_type": "code",
      "source": [
        "library = {\n",
        "    \"fantasy\": [\"Harry Potter and the Philosopher's Stone\",\n",
        "                \"Harry Potter and the Chamber of Secrets\",\n",
        "                \"Harry Potter and the Prisoner of Azkaban\"],\n",
        "    \"mystery\": [\"Sherlock Holmes: A Study in Scarlet\",\n",
        "                \"Sherlock Holmes: The Sign of the Four\",\n",
        "                \"Sherlock Holmes: The Hound of the Baskervilles\"]}\n",
        "search_title = input(\"Enter the title or part of the title to search for: \")\n",
        "found_books = []\n",
        "for books in library.values():\n",
        "    for book in books:\n",
        "        if search_title in book:\n",
        "            found_books.extend([book])\n",
        "\n",
        "if found_books:\n",
        "    print(\"Books related to\", search_title + \":\")\n",
        "    for book in found_books:\n",
        "        print(book)\n",
        "else:\n",
        "    print(\"No books found.\")"
      ],
      "metadata": {
        "colab": {
          "base_uri": "https://localhost:8080/"
        },
        "id": "27I7exW_g2_c",
        "outputId": "fa3c1e2a-dd45-4fc0-9e1f-2850752fd0b6"
      },
      "execution_count": 1,
      "outputs": [
        {
          "output_type": "stream",
          "name": "stdout",
          "text": [
            "Enter the title or part of the title to search for: Harry Potter\n",
            "Books related to Harry Potter:\n",
            "Harry Potter and the Philosopher's Stone\n",
            "Harry Potter and the Chamber of Secrets\n",
            "Harry Potter and the Prisoner of Azkaban\n"
          ]
        }
      ]
    },
    {
      "cell_type": "code",
      "source": [
        "library = {\n",
        "    \"fantasy\": [\"Harry Potter and the Philosopher's Stone\",\n",
        "                \"Harry Potter and the Chamber of Secrets\",\n",
        "                \"Harry Potter and the Prisoner of Azkaban\"],\n",
        "    \"mystery\": [\"Sherlock Holmes: A Study in Scarlet\",\n",
        "                \"Sherlock Holmes: The Sign of the Four\",\n",
        "                \"Sherlock Holmes: The Hound of the Baskervilles\"]}\n",
        "search_title = input(\"Enter the title or part of the title to search for: \")\n",
        "found_books = []\n",
        "for books in library.values():\n",
        "    for book in books:\n",
        "        if search_title in book:\n",
        "            found_books.extend([book])\n",
        "\n",
        "if found_books:\n",
        "    print(\"Books related to\", search_title + \":\")\n",
        "    for book in found_books:\n",
        "        print(book)\n",
        "else:\n",
        "    print(\"No books found.\")\n",
        ""
      ],
      "metadata": {
        "colab": {
          "base_uri": "https://localhost:8080/"
        },
        "id": "ames7HbwhgWd",
        "outputId": "86133d8c-e96d-4d82-cea6-8ceaefd235c3"
      },
      "execution_count": 2,
      "outputs": [
        {
          "output_type": "stream",
          "name": "stdout",
          "text": [
            "Enter the title or part of the title to search for: Harry Potter\n",
            "Books related to Harry Potter:\n",
            "Harry Potter and the Philosopher's Stone\n",
            "Harry Potter and the Chamber of Secrets\n",
            "Harry Potter and the Prisoner of Azkaban\n"
          ]
        }
      ]
    }
  ]
}